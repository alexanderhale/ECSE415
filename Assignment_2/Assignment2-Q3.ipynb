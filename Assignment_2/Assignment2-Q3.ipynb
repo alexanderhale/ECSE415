{
 "cells": [
  {
   "cell_type": "markdown",
   "metadata": {},
   "source": [
    "# ECSE 415 Assignment 2, Question 3\n",
    "### Alex Hale | 260672475 | October 20, 2019\n",
    "\n",
    "## Object Detection\n",
    "### Step 1 - Training"
   ]
  },
  {
   "cell_type": "code",
   "execution_count": 1,
   "metadata": {},
   "outputs": [],
   "source": [
    "import cv2\n",
    "import numpy as np\n",
    "import matplotlib.pyplot as plt"
   ]
  },
  {
   "cell_type": "code",
   "execution_count": 5,
   "metadata": {},
   "outputs": [],
   "source": [
    "def hog(img):\n",
    "    cell_size = (4, 4)  # h x w in pixels\n",
    "    block_size = (2, 2)  # h x w in cells\n",
    "    nbins = 9  # number of orientation bins\n",
    "    hog = cv2.HOGDescriptor(_winSize=(img.shape[1] // cell_size[1] * cell_size[1],\n",
    "                                      img.shape[0] // cell_size[0] * cell_size[0]),\n",
    "                            _blockSize=(block_size[1] * cell_size[1],\n",
    "                                        block_size[0] * cell_size[0]),\n",
    "                            _blockStride=(cell_size[1], cell_size[0]),\n",
    "                            _cellSize=(cell_size[1], cell_size[0]),\n",
    "                            _nbins=nbins)\n",
    "\n",
    "    n_cells = (img.shape[0] // cell_size[0], img.shape[1] // cell_size[1])\n",
    "\n",
    "    # Compute HoG features\n",
    "    hog_feats = hog.compute(img) \\\n",
    "                   .reshape(n_cells[1] - block_size[1] + 1,\n",
    "                            n_cells[0] - block_size[0] + 1,\n",
    "                            block_size[1], block_size[0], nbins) \\\n",
    "                   .transpose((1, 0, 3, 2, 4))  # index blocks by rows first\n",
    "    \n",
    "    return (hog_feats)\n",
    "\n",
    "\n",
    "#     # Preview\n",
    "#     plt.figure(figsize = (20,100))\n",
    "#     plt.subplot(151)\n",
    "#     plt.imshow(img, cmap='gray')\n",
    "#     plt.title(\"Original Image\"), plt.xticks([]), plt.yticks([])\n",
    "\n",
    "#     plt.subplot(152)\n",
    "#     plt.pcolor(hog_feats[:, :, 0,0,0])\n",
    "#     plt.gca().invert_yaxis()\n",
    "#     plt.gca().set_aspect('equal', adjustable='box')\n",
    "#     plt.title(\"HOG bin = 0, block = 1\"), plt.xticks([]), plt.yticks([])\n",
    "\n",
    "#     plt.subplot(153)\n",
    "#     plt.pcolor(hog_feats[:, :, 0,1,0])\n",
    "#     plt.gca().invert_yaxis()\n",
    "#     plt.gca().set_aspect('equal', adjustable='box')\n",
    "#     plt.title(\"HOG bin = 0, block = 2\"), plt.xticks([]), plt.yticks([])\n",
    "\n",
    "#     plt.subplot(154)\n",
    "#     plt.pcolor(hog_feats[:, :, 1,0,0])\n",
    "#     plt.gca().invert_yaxis()\n",
    "#     plt.gca().set_aspect('equal', adjustable='box')\n",
    "#     plt.title(\"HOG bin = 0, block = 3\"), plt.xticks([]), plt.yticks([])\n",
    "\n",
    "#     plt.subplot(155)\n",
    "#     plt.pcolor(hog_feats[:, :, 1,1,0])\n",
    "#     plt.gca().invert_yaxis()\n",
    "#     plt.gca().set_aspect('equal', adjustable='box')\n",
    "#     plt.title(\"HOG bin = 0, block = 4\"), plt.xticks([]), plt.yticks([])\n",
    "#     plt.colorbar(fraction=0.04)\n",
    "#     plt.show()"
   ]
  },
  {
   "cell_type": "code",
   "execution_count": 15,
   "metadata": {},
   "outputs": [],
   "source": [
    "cars = []\n",
    "cars_flipped = []\n",
    "feat_vecs = []\n",
    "feat_vecs_flipped = []\n",
    "for i in range(14):\n",
    "    cars.append(cv2.cvtColor(cv2.imread(\"car\" + str(i+1) + \".jpg\"), cv2.COLOR_BGR2GRAY))\n",
    "    cv2.resize(cars[i], (128, 128))\n",
    "    feat_vecs.append(hog(cars[i]))\n",
    "    cars_flipped.append(cv2.flip(cars[i], 0))\n",
    "    feat_vecs_flipped.append(hog(cars_flipped[i]))\n",
    "\n",
    "# TODO calculate and store the mean feature vector across the training images\n",
    "\n",
    "# TODO display 9 orientation channels of the mean feature maps for the first block"
   ]
  },
  {
   "cell_type": "markdown",
   "metadata": {},
   "source": [
    "### Step 2 - Testing"
   ]
  },
  {
   "cell_type": "code",
   "execution_count": null,
   "metadata": {},
   "outputs": [],
   "source": []
  }
 ],
 "metadata": {
  "kernelspec": {
   "display_name": "Python 3",
   "language": "python",
   "name": "python3"
  },
  "language_info": {
   "codemirror_mode": {
    "name": "ipython",
    "version": 3
   },
   "file_extension": ".py",
   "mimetype": "text/x-python",
   "name": "python",
   "nbconvert_exporter": "python",
   "pygments_lexer": "ipython3",
   "version": "3.6.8"
  }
 },
 "nbformat": 4,
 "nbformat_minor": 2
}
